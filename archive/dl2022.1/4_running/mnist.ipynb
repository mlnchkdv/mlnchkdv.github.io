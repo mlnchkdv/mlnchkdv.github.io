{
  "nbformat": 4,
  "nbformat_minor": 0,
  "metadata": {
    "colab": {
      "name": "neural_course_01_mnist.ipynb",
      "provenance": [],
      "collapsed_sections": [
        "BmTr_lXTKNbN",
        "lspCHiaCKl72",
        "8OsyUFVULEkG",
        "7vMx5V5QMYlW",
        "uFyI8beELi39",
        "F7pZ8XqdJOC9",
        "YCOpbc2hJ41F"
      ]
    },
    "kernelspec": {
      "name": "python3",
      "display_name": "Python 3"
    },
    "accelerator": "GPU"
  },
  "cells": [
    {
      "cell_type": "markdown",
      "metadata": {
        "id": "Ah7dy1kFL2H9"
      },
      "source": [
        "# Распознавание рукописных цифр из набора данных MNIST с помощью Keras\n",
        "\n",
        "\n",
        "Чтобы запускать и редактировать код, сохраните копию этого ноутбука себе (File->Save a copy in Drive...). Свою копию вы сможете изменять и запускать."
      ]
    },
    {
      "cell_type": "code",
      "metadata": {
        "id": "Md_aXRRWCmzV"
      },
      "source": [
        "!pip install Pillow"
      ],
      "execution_count": null,
      "outputs": []
    },
    {
      "cell_type": "code",
      "metadata": {
        "id": "e8qjLtlHBmmA",
        "outputId": "e18a1b09-101c-41db-a638-0c258838fd0a",
        "colab": {
          "base_uri": "https://localhost:8080/",
          "height": 80
        }
      },
      "source": [
        "!pip install scipy==1.2.2"
      ],
      "execution_count": null,
      "outputs": [
        {
          "output_type": "stream",
          "text": [
            "Requirement already satisfied: scipy==1.2.2 in /usr/local/lib/python3.6/dist-packages (1.2.2)\n",
            "Requirement already satisfied: numpy>=1.8.2 in /usr/local/lib/python3.6/dist-packages (from scipy==1.2.2) (1.16.4)\n"
          ],
          "name": "stdout"
        }
      ]
    },
    {
      "cell_type": "code",
      "metadata": {
        "id": "qrfd6FzSLrE2"
      },
      "source": [
        "from tensorflow.keras.datasets import mnist\n",
        "from tensorflow.keras.models import Sequential\n",
        "from tensorflow.keras.layers import Dense\n",
        "from tensorflow.keras import utils\n",
        "from tensorflow.keras.preprocessing import image\n",
        "from google.colab import files\n",
        "import numpy as np\n",
        "import matplotlib.pyplot as plt\n",
        "from scipy.misc import toimage\n",
        "%matplotlib inline "
      ],
      "execution_count": null,
      "outputs": []
    },
    {
      "cell_type": "markdown",
      "metadata": {
        "id": "xiurjCBVMDTG"
      },
      "source": [
        "## Подготовка данных для обучения сети"
      ]
    },
    {
      "cell_type": "markdown",
      "metadata": {
        "id": "1yDF75Cx8VPz"
      },
      "source": [
        "**Загружаем набор данных с рукописными цифрами**"
      ]
    },
    {
      "cell_type": "code",
      "metadata": {
        "id": "E5L3LUIi8PDV",
        "outputId": "81200da7-4856-4f85-b684-88b118a34b13",
        "colab": {
          "base_uri": "https://localhost:8080/",
          "height": 51
        }
      },
      "source": [
        "# В Keras встроены средства работы с популярными наборами данных\n",
        "(x_train_org, y_train_org), (x_test_org, y_test_org) = mnist.load_data()"
      ],
      "execution_count": null,
      "outputs": [
        {
          "output_type": "stream",
          "text": [
            "Downloading data from https://storage.googleapis.com/tensorflow/tf-keras-datasets/mnist.npz\n",
            "11493376/11490434 [==============================] - 0s 0us/step\n"
          ],
          "name": "stdout"
        }
      ]
    },
    {
      "cell_type": "code",
      "metadata": {
        "id": "ga0DtPJQVkEh",
        "outputId": "bf3683b6-94ef-4274-c270-05cfd5f74822",
        "colab": {
          "base_uri": "https://localhost:8080/",
          "height": 354
        }
      },
      "source": [
        "n = 1304\n",
        "plt.imshow(toimage(x_train_org[n]).convert('RGBA'))\n",
        "plt.show()"
      ],
      "execution_count": null,
      "outputs": [
        {
          "output_type": "stream",
          "text": [
            "/usr/local/lib/python3.6/dist-packages/ipykernel_launcher.py:2: DeprecationWarning: `toimage` is deprecated!\n",
            "`toimage` is deprecated in SciPy 1.0.0, and will be removed in 1.2.0.\n",
            "Use Pillow's ``Image.fromarray`` directly instead.\n",
            "  \n"
          ],
          "name": "stderr"
        },
        {
          "output_type": "display_data",
          "data": {
            "image/png": "[encoded data removed]",
            "text/plain": [
              "<Figure size 432x288 with 1 Axes>"
            ]
          },
          "metadata": {
            "tags": []
          }
        }
      ]
    },
    {
      "cell_type": "markdown",
      "metadata": {
        "id": "7uXTnIojJLbl"
      },
      "source": [
        "**Преобразование размерности данных в наборе**"
      ]
    },
    {
      "cell_type": "code",
      "metadata": {
        "id": "GBAqLKjGJJ-V"
      },
      "source": [
        "x_train = x_train_org.reshape(60000, 784)\n",
        "x_test = x_test_org.reshape(10000, 784)"
      ],
      "execution_count": null,
      "outputs": []
    },
    {
      "cell_type": "markdown",
      "metadata": {
        "id": "hDaHO5LgJYxU"
      },
      "source": [
        "**Нормализация данных**"
      ]
    },
    {
      "cell_type": "code",
      "metadata": {
        "id": "rscaAuBNJdq9"
      },
      "source": [
        "# Векторизованные операции\n",
        "# Применяются к каждому элементу массива отдельно\n",
        "x_train = x_train.astype('float32')\n",
        "x_train = x_train / 255 "
      ],
      "execution_count": null,
      "outputs": []
    },
    {
      "cell_type": "markdown",
      "metadata": {
        "id": "KRcMlNzqJk1t"
      },
      "source": [
        "**Работа с правильными ответами**"
      ]
    },
    {
      "cell_type": "code",
      "metadata": {
        "id": "A5lKe_syJqPu",
        "outputId": "d9fc4456-bfc7-4c3f-e4b4-8e35bf9ed31a",
        "colab": {
          "base_uri": "https://localhost:8080/",
          "height": 35
        }
      },
      "source": [
        "print(y_train_org[n])"
      ],
      "execution_count": null,
      "outputs": [
        {
          "output_type": "stream",
          "text": [
            "3\n"
          ],
          "name": "stdout"
        }
      ]
    },
    {
      "cell_type": "markdown",
      "metadata": {
        "id": "zqJ9GA1kJxBF"
      },
      "source": [
        "**Преобразуем метки в формат one hot encoding**"
      ]
    },
    {
      "cell_type": "code",
      "metadata": {
        "id": "zQnasUyyJ3cG"
      },
      "source": [
        "y_train = utils.to_categorical(y_train_org, 10)"
      ],
      "execution_count": null,
      "outputs": []
    },
    {
      "cell_type": "markdown",
      "metadata": {
        "id": "KfuqlyjHJ_ye"
      },
      "source": [
        "**Правильный ответ в формате one hot encoding**"
      ]
    },
    {
      "cell_type": "code",
      "metadata": {
        "id": "9zUfd1aeKH3e",
        "outputId": "89cc9927-7b29-4806-b49a-c4030fc8c201",
        "colab": {
          "base_uri": "https://localhost:8080/",
          "height": 35
        }
      },
      "source": [
        "print(y_train[n])"
      ],
      "execution_count": null,
      "outputs": [
        {
          "output_type": "stream",
          "text": [
            "[0. 0. 0. 0. 0. 0. 0. 0. 0. 1.]\n"
          ],
          "name": "stdout"
        }
      ]
    },
    {
      "cell_type": "markdown",
      "metadata": {
        "id": "BmTr_lXTKNbN"
      },
      "source": [
        "## Создаем нейронную сеть"
      ]
    },
    {
      "cell_type": "markdown",
      "metadata": {
        "id": "fV_igNZuMNXe"
      },
      "source": [
        "**Создаем последовательную модель**"
      ]
    },
    {
      "cell_type": "code",
      "metadata": {
        "id": "D-jPYYxIKQkt"
      },
      "source": [
        "model = Sequential()"
      ],
      "execution_count": null,
      "outputs": []
    },
    {
      "cell_type": "markdown",
      "metadata": {
        "id": "Q3QzIVtBMQRG"
      },
      "source": [
        "**Добавляем уровни сети**\n",
        "\n",
        "Архитектуру сети взяли по ссылке - https://en.wikipedia.org/wiki/MNIST_database\n"
      ]
    },
    {
      "cell_type": "code",
      "metadata": {
        "id": "kYVSvpNIMSnG"
      },
      "source": [
        "# Входной полносвязный слой, 800 нейронов, 784 входа в каждый нейрон\n",
        "model.add(Dense(800, input_dim=784, activation=\"relu\"))\n",
        "# Выходной полносвязный слой, 10 нейронов (по количеству рукописных цифр)\n",
        "model.add(Dense(10, activation=\"softmax\"))"
      ],
      "execution_count": null,
      "outputs": []
    },
    {
      "cell_type": "markdown",
      "metadata": {
        "id": "G__m76T-KWhd"
      },
      "source": [
        "**Компилируем сеть**"
      ]
    },
    {
      "cell_type": "code",
      "metadata": {
        "id": "PTcbSxchKZjd",
        "outputId": "6b268451-0ef5-4004-a8f7-bdb5a721db5d",
        "colab": {
          "base_uri": "https://localhost:8080/",
          "height": 225
        }
      },
      "source": [
        "model.compile(loss=\"categorical_crossentropy\", optimizer=\"adam\", metrics=[\"accuracy\"])\n",
        "\n",
        "print(model.summary())"
      ],
      "execution_count": null,
      "outputs": [
        {
          "output_type": "stream",
          "text": [
            "_________________________________________________________________\n",
            "Layer (type)                 Output Shape              Param #   \n",
            "=================================================================\n",
            "dense (Dense)                (None, 800)               628000    \n",
            "_________________________________________________________________\n",
            "dense_1 (Dense)              (None, 10)                8010      \n",
            "=================================================================\n",
            "Total params: 636,010\n",
            "Trainable params: 636,010\n",
            "Non-trainable params: 0\n",
            "_________________________________________________________________\n",
            "None\n"
          ],
          "name": "stdout"
        }
      ]
    },
    {
      "cell_type": "markdown",
      "metadata": {
        "id": "lspCHiaCKl72"
      },
      "source": [
        "## Обучаем нейронную сеть"
      ]
    },
    {
      "cell_type": "code",
      "metadata": {
        "id": "H6EIXu1dKoju",
        "outputId": "eee977f7-6c8a-4ee8-b4c4-724f930c6f1e",
        "colab": {
          "base_uri": "https://localhost:8080/",
          "height": 728
        }
      },
      "source": [
        "model.fit(x_train, y_train, batch_size=200, epochs=20,  verbose=1)"
      ],
      "execution_count": null,
      "outputs": [
        {
          "output_type": "stream",
          "text": [
            "Epoch 1/20\n",
            "60000/60000 [==============================] - 3s 47us/step - loss: 0.2771 - acc: 0.9210\n",
            "Epoch 2/20\n",
            "60000/60000 [==============================] - 2s 34us/step - loss: 0.1111 - acc: 0.9683\n",
            "Epoch 3/20\n",
            "60000/60000 [==============================] - 2s 34us/step - loss: 0.0720 - acc: 0.9790\n",
            "Epoch 4/20\n",
            "60000/60000 [==============================] - 2s 34us/step - loss: 0.0512 - acc: 0.9853\n",
            "Epoch 5/20\n",
            "60000/60000 [==============================] - 2s 34us/step - loss: 0.0375 - acc: 0.9896\n",
            "Epoch 6/20\n",
            "60000/60000 [==============================] - 2s 33us/step - loss: 0.0281 - acc: 0.9919\n",
            "Epoch 7/20\n",
            "60000/60000 [==============================] - 2s 34us/step - loss: 0.0199 - acc: 0.9949\n",
            "Epoch 8/20\n",
            "60000/60000 [==============================] - 2s 34us/step - loss: 0.0145 - acc: 0.9969\n",
            "Epoch 9/20\n",
            "60000/60000 [==============================] - 2s 33us/step - loss: 0.0109 - acc: 0.9977\n",
            "Epoch 10/20\n",
            "60000/60000 [==============================] - 2s 32us/step - loss: 0.0084 - acc: 0.9984\n",
            "Epoch 11/20\n",
            "60000/60000 [==============================] - 2s 32us/step - loss: 0.0057 - acc: 0.9992\n",
            "Epoch 12/20\n",
            "60000/60000 [==============================] - 2s 33us/step - loss: 0.0045 - acc: 0.9995\n",
            "Epoch 13/20\n",
            "60000/60000 [==============================] - 2s 33us/step - loss: 0.0050 - acc: 0.9991\n",
            "Epoch 14/20\n",
            "60000/60000 [==============================] - 2s 33us/step - loss: 0.0025 - acc: 0.9999\n",
            "Epoch 15/20\n",
            "60000/60000 [==============================] - 2s 33us/step - loss: 0.0026 - acc: 0.9997\n",
            "Epoch 16/20\n",
            "60000/60000 [==============================] - 2s 34us/step - loss: 0.0133 - acc: 0.9958\n",
            "Epoch 17/20\n",
            "60000/60000 [==============================] - 2s 33us/step - loss: 0.0077 - acc: 0.9977\n",
            "Epoch 18/20\n",
            "60000/60000 [==============================] - 2s 34us/step - loss: 0.0026 - acc: 0.9995\n",
            "Epoch 19/20\n",
            "60000/60000 [==============================] - 2s 38us/step - loss: 7.5007e-04 - acc: 1.0000\n",
            "Epoch 20/20\n",
            "60000/60000 [==============================] - 2s 32us/step - loss: 4.1096e-04 - acc: 1.0000\n"
          ],
          "name": "stdout"
        },
        {
          "output_type": "execute_result",
          "data": {
            "text/plain": [
              "<tensorflow.python.keras.callbacks.History at 0x7f6e2df24b38>"
            ]
          },
          "metadata": {
            "tags": []
          },
          "execution_count": 17
        }
      ]
    },
    {
      "cell_type": "markdown",
      "metadata": {
        "id": "8OsyUFVULEkG"
      },
      "source": [
        "## Сохраняем обученную нейронную сеть"
      ]
    },
    {
      "cell_type": "markdown",
      "metadata": {
        "id": "3H4ivOt5H2rm"
      },
      "source": [
        "Записываем обученную нейронную сеть в файл `mnist_dense.h5`"
      ]
    },
    {
      "cell_type": "code",
      "metadata": {
        "id": "jCcYrRwfLYg-"
      },
      "source": [
        "model.save(\"mnist_dense.h5\")\n"
      ],
      "execution_count": null,
      "outputs": []
    },
    {
      "cell_type": "markdown",
      "metadata": {
        "id": "ulInadIzIBj_"
      },
      "source": [
        "Проверяем, что файл сохранился"
      ]
    },
    {
      "cell_type": "code",
      "metadata": {
        "id": "DFOL85B1IEgO",
        "outputId": "89b44ca1-768f-48e9-fc24-54dfb5186764",
        "colab": {
          "base_uri": "https://localhost:8080/",
          "height": 35
        }
      },
      "source": [
        "!ls"
      ],
      "execution_count": null,
      "outputs": [
        {
          "output_type": "stream",
          "text": [
            "mnist_dense.h5\tsample_data\n"
          ],
          "name": "stdout"
        }
      ]
    },
    {
      "cell_type": "markdown",
      "metadata": {
        "id": "52MAtyzWGKAC"
      },
      "source": [
        "**Сохраняем файлы на локальный компьютер**"
      ]
    },
    {
      "cell_type": "code",
      "metadata": {
        "id": "0etc3S-PGOuy"
      },
      "source": [
        "files.download(\"mnist_dense.h5\")"
      ],
      "execution_count": null,
      "outputs": []
    },
    {
      "cell_type": "markdown",
      "metadata": {
        "id": "pR_nstTJIRTc"
      },
      "source": [
        "Если хотите использовать обученную нейронную сеть на своем компьютере:\n",
        "\n",
        "```\n",
        "from keras.models import load_model\n",
        "model = load_model('mnist_dense.h5')\n",
        "```"
      ]
    },
    {
      "cell_type": "markdown",
      "metadata": {
        "id": "7vMx5V5QMYlW"
      },
      "source": [
        "## Используем сеть для распознавания рукописных цифр"
      ]
    },
    {
      "cell_type": "code",
      "metadata": {
        "id": "-AGygAcPMd0G"
      },
      "source": [
        "n_rec = 487"
      ],
      "execution_count": null,
      "outputs": []
    },
    {
      "cell_type": "code",
      "metadata": {
        "id": "TT4Ofqx1WTCq",
        "outputId": "08672665-26a4-4619-e29d-5d0d490e8adc",
        "colab": {
          "base_uri": "https://localhost:8080/",
          "height": 265
        }
      },
      "source": [
        "plt.imshow(toimage(x_test_org[n_rec]).convert('RGBA'))\n",
        "plt.show()"
      ],
      "execution_count": null,
      "outputs": [
        {
          "output_type": "display_data",
          "data": {
            "image/png": "[encoded data removed]",
            "text/plain": [
              "<matplotlib.figure.Figure at 0x7f6e2df28fd0>"
            ]
          },
          "metadata": {
            "tags": []
          }
        }
      ]
    },
    {
      "cell_type": "markdown",
      "metadata": {
        "id": "Lnft8V55M0Rc"
      },
      "source": [
        "**Меняем размерность изображения и нормализуем его**"
      ]
    },
    {
      "cell_type": "code",
      "metadata": {
        "id": "UKFWqSHtM7Nf"
      },
      "source": [
        "x = x_test[n_rec]\n",
        "x = np.expand_dims(x, axis=0)"
      ],
      "execution_count": null,
      "outputs": []
    },
    {
      "cell_type": "markdown",
      "metadata": {
        "id": "bMruIcf2NHlN"
      },
      "source": [
        "**Запускаем распознавание**"
      ]
    },
    {
      "cell_type": "code",
      "metadata": {
        "id": "Ap72-9_kNKU2"
      },
      "source": [
        "prediction = model.predict(x)"
      ],
      "execution_count": null,
      "outputs": []
    },
    {
      "cell_type": "markdown",
      "metadata": {
        "id": "2Gldpmn2NQ6-"
      },
      "source": [
        "**Печатаем результаты распознавания**"
      ]
    },
    {
      "cell_type": "code",
      "metadata": {
        "id": "P7opRiSZNUku",
        "outputId": "2e8e15d4-f72b-47c6-bfce-8004fa7963aa",
        "colab": {
          "base_uri": "https://localhost:8080/",
          "height": 35
        }
      },
      "source": [
        "print(prediction)"
      ],
      "execution_count": null,
      "outputs": [
        {
          "output_type": "stream",
          "text": [
            "[[0. 0. 0. 0. 0. 0. 0. 0. 0. 1.]]\n"
          ],
          "name": "stdout"
        }
      ]
    },
    {
      "cell_type": "markdown",
      "metadata": {
        "id": "LQTiyEM3NfRG"
      },
      "source": [
        "**Преобразуем результаты из формата one hot encoding**"
      ]
    },
    {
      "cell_type": "code",
      "metadata": {
        "id": "XVC_dTGqNohG",
        "outputId": "e68905bc-aca1-428a-a3c1-8389feaace04",
        "colab": {
          "base_uri": "https://localhost:8080/",
          "height": 35
        }
      },
      "source": [
        "prediction = np.argmax(prediction)\n",
        "print(prediction)"
      ],
      "execution_count": null,
      "outputs": [
        {
          "output_type": "stream",
          "text": [
            "9\n"
          ],
          "name": "stdout"
        }
      ]
    },
    {
      "cell_type": "markdown",
      "metadata": {
        "id": "zJy8tKjuNyD2"
      },
      "source": [
        "**Печатаем правильный ответ**"
      ]
    },
    {
      "cell_type": "code",
      "metadata": {
        "id": "0zoGlCZWN2Id",
        "outputId": "3f2aa11a-e354-40b2-aff2-d71c755c6383",
        "colab": {
          "base_uri": "https://localhost:8080/",
          "height": 35
        }
      },
      "source": [
        "print(y_test_org[n_rec])"
      ],
      "execution_count": null,
      "outputs": [
        {
          "output_type": "stream",
          "text": [
            "9\n"
          ],
          "name": "stdout"
        }
      ]
    },
    {
      "cell_type": "markdown",
      "metadata": {
        "id": "uFyI8beELi39"
      },
      "source": [
        "## Загружаем свою картинку"
      ]
    },
    {
      "cell_type": "code",
      "metadata": {
        "id": "Pbsw3N30LnT2",
        "outputId": "81d1fd4e-3024-49bc-faa6-80b20385bd70",
        "colab": {
          "resources": {
            "http://localhost:8080/nbextensions/google.colab/files.js": {
              "data": "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",
              "ok": true,
              "headers": [
                [
                  "content-type",
                  "application/javascript"
                ]
              ],
              "status": 200,
              "status_text": ""
            }
          },
          "base_uri": "https://localhost:8080/",
          "height": 111
        }
      },
      "source": [
        "files.upload()"
      ],
      "execution_count": null,
      "outputs": [
        {
          "output_type": "display_data",
          "data": {
            "text/html": [
              "\n",
              "     <input type=\"file\" id=\"files-3e5d5fc8-b80f-4f10-bd8a-ebbafef5d7c1\" name=\"files[]\" multiple disabled />\n",
              "     <output id=\"result-3e5d5fc8-b80f-4f10-bd8a-ebbafef5d7c1\">\n",
              "      Upload widget is only available when the cell has been executed in the\n",
              "      current browser session. Please rerun this cell to enable.\n",
              "      </output>\n",
              "      <script src=\"/nbextensions/google.colab/files.js\"></script> "
            ],
            "text/plain": [
              "<IPython.core.display.HTML object>"
            ]
          },
          "metadata": {
            "tags": []
          }
        },
        {
          "output_type": "stream",
          "text": [
            "Saving 7.png to 7.png\n"
          ],
          "name": "stdout"
        },
        {
          "output_type": "execute_result",
          "data": {
            "text/plain": [
              "{'7.png': b'\\x89PNG\\r\\n\\x1a\\n\\x00\\x00\\x00\\rIHDR\\x00\\x00\\x00\\x1c\\x00\\x00\\x00\\x1c\\x08\\x06\\x00\\x00\\x00r\\r\\xdf\\x94\\x00\\x00\\x01\\xa6IDATx\\x9c\\xed\\x96=k\\x02A\\x10\\x86\\xdf\\x0b\\x11\\xb4\\x11\\x94C\\x8bkT\\xb0\\xb0\\xb4\\xb2Pt\\x1b\\x7f\\x85\\xff@\\x90m,,\\xed\\xb4\\xb5\\xb2=\\x7f\\x86\\xd8,v\\xe2\\x07\\xf6\\xba\\xa7\\x95\\x8a\\x85\\xad\\x82\\xb0\\x93*\\x12\\xe3\\xd7z\\x97\\x84\\x10\\xf2\\x963\\xef\\xf00s;\\xc3\\x19DD\\xf8A\\xbd\\xfc$\\xec\\x1f\\xe8Y\\xf5z\\xfd\"\\xf6\\xfa\\x8cY\\'\\xbf\\xdb\\xed\\xd0\\xeb\\xf5\\xd0n\\xb7\\xb1\\\\./\\xbc7\\x81\\xf7$\\x84\\x00c\\x0c\\x8c\\xb1S\\xecx<b2\\x99\\xa0\\xdf\\xef#\\x9f\\xcf#\\x9b\\xcd\\x9e\\xe5\\xdfe\\xb8]\\x8bk\\x1d\\xa6R)\\x14\\x8bE\\x84\\xc3a\\x00\\x00\\xe7\\x1c\\xa1P\\xe8\\xdcK\\xdf$\\xce9\\x99\\xa6I\\x8e\\xe3\\x9c\\xc5\\xbf\\x05X\\xa9T\\xa8P(\\x90\\x94\\xf2\"\\xf7\\xa5@\\xa5\\x145\\x1a\\r\\x8a\\xc7\\xe3\\xb4\\xd9l\\xaez\\\\=\\x9akZ\\xadV(\\x95J\\x88D\"\\x98N\\xa7\\x08\\x06\\x83\\xd7\\x8d^\\xbb\\x92RR\\xb5Z\\xa5X,F\\xcdf\\x93\\x94Rw\\xfd\\x9e\\x80\\x83\\xc1\\x80L\\xd3$\\xce9\\xcdf3\\xad\\x1a\\xd7\\xc0\\xf5zM\\x96eQ\\xb7\\xdb}\\xaaNk\\x0f?\\xef\\x9cR\\n\\x9dN\\x07\\xc9d\\x12\\xb9\\\\N\\xbb\\x0epyK\\x85\\x10\\x08\\x04\\x02\\'\\x98m\\xdb\\xb0m[\\xaf\\xf8\\x99qH)\\xa9\\\\.\\x93eY7\\x9f\\xfd#iw\\xb8X,\\x90\\xc9d\\xe0\\xf3\\xf90\\x1a\\x8d\\x10\\x8dF\\xdd\\x0cG\\xff\\x96\\xd6j5\\xec\\xf7{\\xb4Z-W\\xa0\\x93t\\xc6\\xa0\\x94\\xa2t:MB\\x08Wc\\xfc\\xa8\\x87\\x1d2\\xc6\\xb0\\xddn\\xe1\\xf7\\xfb1\\x1e\\x8fa\\x18\\x86\\xa7\\x06\\x1f\\x9e\\xb6\\xc3\\xe1\\x80\\xf9|\\x8e\\xe1p\\xe8\\x19\\x06h~C\\xc7q\\x90H$<\\xc3\\xb4\\x81_\\xa9\\xbf\\xf5\\xd7\\xf6+\\x80o\\xd5L\\xc9\\xe4\\x9a`\\x1e\\xad\\x00\\x00\\x00\\x00IEND\\xaeB`\\x82'}"
            ]
          },
          "metadata": {
            "tags": []
          },
          "execution_count": 34
        }
      ]
    },
    {
      "cell_type": "markdown",
      "metadata": {
        "id": "2rXNsnTnMLJO"
      },
      "source": [
        "Проверяем загрузку картинки"
      ]
    },
    {
      "cell_type": "code",
      "metadata": {
        "id": "v3y6wbi-MNqs",
        "outputId": "92851d98-73d8-442e-8a35-c92c6d972581",
        "colab": {
          "base_uri": "https://localhost:8080/",
          "height": 35
        }
      },
      "source": [
        "!ls"
      ],
      "execution_count": null,
      "outputs": [
        {
          "output_type": "stream",
          "text": [
            "7.png  mnist_dense.h5  sample_data\n"
          ],
          "name": "stdout"
        }
      ]
    },
    {
      "cell_type": "markdown",
      "metadata": {
        "id": "F8HQI_X5MUms"
      },
      "source": [
        "Загружаем картинку из файла"
      ]
    },
    {
      "cell_type": "code",
      "metadata": {
        "id": "Zfi4L4iYMTLE"
      },
      "source": [
        "img_path = '7.png'\n",
        "img = image.load_img(img_path, target_size=(28, 28), color_mode = \"grayscale\")"
      ],
      "execution_count": null,
      "outputs": []
    },
    {
      "cell_type": "markdown",
      "metadata": {
        "id": "c2yCw9y1QSL1"
      },
      "source": [
        "Показываем картинку"
      ]
    },
    {
      "cell_type": "code",
      "metadata": {
        "id": "BNW4bWUYP8Rt",
        "outputId": "ad82a1c3-a315-4e40-de1b-65f30019ed9d",
        "colab": {
          "base_uri": "https://localhost:8080/",
          "height": 265
        }
      },
      "source": [
        "plt.imshow(img.convert('RGBA'))\n",
        "plt.show()"
      ],
      "execution_count": null,
      "outputs": [
        {
          "output_type": "display_data",
          "data": {
            "image/png": "[encoded data removed]",
            "text/plain": [
              "<matplotlib.figure.Figure at 0x7f6e27c31b70>"
            ]
          },
          "metadata": {
            "tags": []
          }
        }
      ]
    },
    {
      "cell_type": "markdown",
      "metadata": {
        "id": "2fHqp8KbOsJd"
      },
      "source": [
        "Преобразуем картинку для обработки нейронной сетью"
      ]
    },
    {
      "cell_type": "code",
      "metadata": {
        "id": "0xsuR1vDNihN"
      },
      "source": [
        "# Преобразуем картинку в массив\n",
        "x = image.img_to_array(img)\n",
        "# Меняем форму массива в плоский вектор\n",
        "x = x.reshape(1, 784)\n",
        "# Инвертируем изображение\n",
        "x = 255 - x\n",
        "# Нормализуем изображение\n",
        "x /= 255"
      ],
      "execution_count": null,
      "outputs": []
    },
    {
      "cell_type": "markdown",
      "metadata": {
        "id": "OYpe-m2bNR-8"
      },
      "source": [
        "Запускаем распознавание"
      ]
    },
    {
      "cell_type": "code",
      "metadata": {
        "id": "jTUbtYAPNI60"
      },
      "source": [
        "prediction = model.predict(x)"
      ],
      "execution_count": null,
      "outputs": []
    },
    {
      "cell_type": "markdown",
      "metadata": {
        "id": "gdDM5wzcRRql"
      },
      "source": [
        "Результаты распознавания"
      ]
    },
    {
      "cell_type": "code",
      "metadata": {
        "id": "4qbu45hIMQvk",
        "outputId": "be0a11ba-8fd5-40bf-d8ad-db0e45e73efb",
        "colab": {
          "base_uri": "https://localhost:8080/",
          "height": 69
        }
      },
      "source": [
        "prediction"
      ],
      "execution_count": null,
      "outputs": [
        {
          "output_type": "execute_result",
          "data": {
            "text/plain": [
              "array([[2.6505633e-09, 2.4530439e-06, 2.5008418e-04, 1.5591946e-02,\n",
              "        6.9934385e-06, 8.3934792e-06, 1.4922323e-07, 9.8281497e-01,\n",
              "        1.3247923e-03, 2.6778540e-07]], dtype=float32)"
            ]
          },
          "metadata": {
            "tags": []
          },
          "execution_count": 40
        }
      ]
    },
    {
      "cell_type": "code",
      "metadata": {
        "id": "iOwGOz41PNsV",
        "outputId": "ee090bba-6858-400a-f518-cb2c01c6f0da",
        "colab": {
          "base_uri": "https://localhost:8080/",
          "height": 35
        }
      },
      "source": [
        "print(np.argmax(prediction))"
      ],
      "execution_count": null,
      "outputs": [
        {
          "output_type": "stream",
          "text": [
            "7\n"
          ],
          "name": "stdout"
        }
      ]
    },
    {
      "cell_type": "markdown",
      "metadata": {
        "id": "F7pZ8XqdJOC9"
      },
      "source": [
        "## Домашнее задание\n",
        "\n",
        "\n",
        "1.  Сохранить копию ноутбука себе в Google Drive (File->Save a copy in Drive...)\n",
        "2.  Научитесь запускать ноутбук, обучать сеть и использовать ее для распознавания рукописных цифр MNIST.\n",
        "3. Попробуйте сами написать рукописную цифру и распознать ее с помощью сети.\n",
        "4. Попробуйте улучшить качества работы сети.\n",
        "\n",
        "\n",
        "\n"
      ]
    },
    {
      "cell_type": "markdown",
      "metadata": {
        "id": "YCOpbc2hJ41F"
      },
      "source": [
        "## Установка Keras и TensorFlow на свой компьютер\n",
        "\n",
        "Все домашние задания в курсе можно сделать на платформе Google Colaboratory. Ноутбуки с Google Colaboratory останутся у вас после завершения курса, и вы сможете их запускать. Поэтому устанавливать Keras и TensorFlow на свой компьютер для выполнения заданий в курсе не обязательно. Более того, мы не рекомендуем это делать, т.к. установка иногда может быть очень сложной и на нее тратится много времени. Но если вы все-таки хотите установить библиотеки себе, то вот инструкции:\n",
        "\n",
        "1. [Установка TensorFlow в Anaconda с помощью pip](https://www.asozykin.ru/deep_learning/2018/03/30/TensorFlow-Anaconda-Pip-Install.html).\n",
        "2. [Установка Keras с TensorFlow в Anaconda](https://www.asozykin.ru/deep_learning/2017/09/07/Keras-Installation-TensorFlow.html).\n",
        "\n",
        "Сразу хотим предупредить, что инструкции срабатывают не всегда. Но у большинства установить получается."
      ]
    }
  ]
}